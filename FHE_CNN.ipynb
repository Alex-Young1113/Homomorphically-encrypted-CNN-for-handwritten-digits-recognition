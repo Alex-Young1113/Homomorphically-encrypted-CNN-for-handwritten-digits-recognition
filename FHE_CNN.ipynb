{
 "cells": [
  {
   "cell_type": "code",
   "execution_count": 1,
   "metadata": {},
   "outputs": [],
   "source": [
    "import tenseal as ts\n"
   ]
  },
  {
   "cell_type": "code",
   "execution_count": 2,
   "metadata": {},
   "outputs": [],
   "source": [
    "def create_ctx(L = 1, precision = 60, scale = 30):\n",
    "    poly_mod_degree = 65536\n",
    "    coeff_mod_bit_sizes = []\n",
    "    coeff_mod_bit_sizes.append(precision)\n",
    "    for i in range(L):\n",
    "        coeff_mod_bit_sizes.append(scale)\n",
    "    coeff_mod_bit_sizes.append(precision)\n",
    "    s = sum(coeff_mod_bit_sizes)\n",
    "    if s <= 27:\n",
    "        poly_mod_degree = 1024\n",
    "    elif s <= 54:\n",
    "        poly_mod_degree = 2048\n",
    "    elif s <= 109:\n",
    "        poly_mod_degree = 4096\n",
    "    elif s <= 218:\n",
    "        poly_mod_degree = 8192\n",
    "    elif s <= 438:\n",
    "        poly_mod_degree = 16384\n",
    "    elif s <= 881:\n",
    "        poly_mod_degree = 32768\n",
    "    ctx = ts.context(ts.SCHEME_TYPE.CKKS, poly_mod_degree, -1, coeff_mod_bit_sizes)\n",
    "    ctx.global_scale = 2**scale\n",
    "    ctx.generate_galois_keys()\n",
    "    return ctx"
   ]
  },
  {
   "cell_type": "code",
   "execution_count": 3,
   "metadata": {},
   "outputs": [],
   "source": [
    "ctx = create_ctx(5)\n",
    "plain1 = ts.plain_tensor([10])\n",
    "cipher1 = ts.ckks_tensor(ctx, plain1)\n",
    "\n",
    "plain2 = ts.plain_tensor([2])\n",
    "cipher2 = ts.ckks_tensor(ctx, plain2)\n"
   ]
  },
  {
   "cell_type": "code",
   "execution_count": 4,
   "metadata": {},
   "outputs": [
    {
     "data": {
      "text/plain": [
       "<tenseal.tensors.ckkstensor.CKKSTensor at 0x7f4c1772b130>"
      ]
     },
     "execution_count": 4,
     "metadata": {},
     "output_type": "execute_result"
    }
   ],
   "source": [
    "cipher1.polyval([1, 1, 1, 1, 1, 1, 1, 2, 1])"
   ]
  },
  {
   "cell_type": "code",
   "execution_count": 5,
   "metadata": {},
   "outputs": [
    {
     "data": {
      "text/plain": [
       "<tenseal.tensors.ckkstensor.CKKSTensor at 0x7f4c358d59f0>"
      ]
     },
     "execution_count": 5,
     "metadata": {},
     "output_type": "execute_result"
    }
   ],
   "source": [
    "1 + cipher2 + cipher2**2 + cipher2**3 + cipher2**4"
   ]
  },
  {
   "cell_type": "code",
   "execution_count": 6,
   "metadata": {},
   "outputs": [],
   "source": [
    "# import os\n",
    "# os.environ[\"KMP_DUPLICATE_LIB_OK\"]=\"TRUE\"\n",
    "\n",
    "import warnings\n",
    "warnings.filterwarnings(\"ignore\") \n",
    "# CUSTOMARY IMPORTS\n",
    "import torch\n",
    "import torchvision\n",
    "from  torchvision import transforms\n",
    "import matplotlib.pyplot as plt\n",
    "import numpy as np\n",
    "\n",
    "\n",
    "%matplotlib inline\n",
    "\n",
    "# TRAINING HYPERPARAMETERS: \n",
    "n_epochs = 5           # How many passes through the training data  \n",
    "batch_size = 64  # Training batch size usually in [1,256]\n",
    "\n",
    "learning_rate = 0.01   # Learning rate for optimizer like SGD usually in [0.001, 0.1]\n",
    "\n",
    "random_seed = 1  \n",
    "\n",
    "torch.manual_seed(random_seed)\n",
    "\n",
    "device = torch.device(\"cuda:0\" if torch.cuda.is_available() else \"cpu\")"
   ]
  },
  {
   "cell_type": "code",
   "execution_count": 7,
   "metadata": {},
   "outputs": [],
   "source": [
    "import torchvision\n",
    "import torch\n",
    "from  torchvision import transforms\n",
    "#Loading the dataset and preprocessing\n",
    "train_dataset = torchvision.datasets.MNIST('data', train=True, download=True, transform=transforms.ToTensor())\n",
    "test_dataset = torchvision.datasets.MNIST('data', train=False, download=True, transform=transforms.ToTensor())\n",
    "\n",
    "\n",
    "train_loader = torch.utils.data.DataLoader(dataset = train_dataset,\n",
    "                                           batch_size = batch_size,\n",
    "                                           shuffle = True)\n",
    "\n",
    "\n",
    "test_loader = torch.utils.data.DataLoader(dataset = test_dataset,\n",
    "                                           batch_size = batch_size,\n",
    "                                           shuffle = True)\n",
    "\n"
   ]
  },
  {
   "cell_type": "code",
   "execution_count": 8,
   "metadata": {},
   "outputs": [
    {
     "name": "stdout",
     "output_type": "stream",
     "text": [
      "torch.Size([28, 28])\n"
     ]
    },
    {
     "data": {
      "image/png": "[encoded data removed]",
      "text/plain": [
       "<Figure size 600x480 with 9 Axes>"
      ]
     },
     "metadata": {},
     "output_type": "display_data"
    }
   ],
   "source": [
    "# The enumerate() method adds a counter to an iterable and returns an enumerate object\n",
    "examples = enumerate(test_loader)\n",
    "batch_idx, (example_X, example_y) = next(examples)\n",
    "print(example_X[0][0].shape)\n",
    "# VISUALIZE SOME EXAMPLES\n",
    "fig=plt.figure(figsize=(10, 8), dpi=60)\n",
    "for i in range(9):\n",
    "  plt.subplot(3,3,i+1)\n",
    "  plt.tight_layout()\n",
    "  plt.imshow(example_X[i][0], cmap='gray')\n",
    "  plt.title(\"result: {}\".format(example_y[i]))\n",
    "  plt.xticks([])\n",
    "  plt.yticks([])"
   ]
  },
  {
   "cell_type": "code",
   "execution_count": 9,
   "metadata": {},
   "outputs": [
    {
     "name": "stdout",
     "output_type": "stream",
     "text": [
      "Net(\n",
      "  (conv1): Conv2d(1, 4, kernel_size=(7, 7), stride=(3, 3))\n",
      "  (fc1): Linear(in_features=256, out_features=64, bias=True)\n",
      "  (fc2): Linear(in_features=64, out_features=10, bias=True)\n",
      ")\n"
     ]
    }
   ],
   "source": [
    "import warnings\n",
    "warnings.filterwarnings(\"ignore\") \n",
    "\n",
    "import torch.nn as nn\n",
    "import torch.nn.functional as F\n",
    "import torch.optim as optim\n",
    "\n",
    "\n",
    "class Net(nn.Module):\n",
    "    values = []\n",
    "    def __init__(self):\n",
    "        super(Net, self).__init__()\n",
    "        self.conv1 = nn.Conv2d(in_channels = 1,out_channels = 4,kernel_size = 7,stride = 3,padding = 0)\n",
    "        \n",
    "        self.fc1 = nn.Linear(in_features = 8 * 8 * 4,out_features = 64)\n",
    "        self.fc2 = nn.Linear(in_features = 64,out_features = 10)           # number of classes/digits = 10\n",
    "\n",
    "    def forward(self, x):\n",
    "        \n",
    "        tmp = self.conv1(x)\n",
    "        # x = F.relu(tmp)\n",
    "        x = 0.06741737 + tmp * 0.53655024 + tmp * tmp * 0.55253566\n",
    "        x = x.view(-1, 8 * 8 * 4)     # reshape\n",
    "\n",
    "        # x = F.relu(self.fc1(x))\n",
    "        tmp = self.fc1(x)\n",
    "        x = 0.06741737 + tmp * 0.53655024 + tmp * tmp * 0.55253566\n",
    "        x = self.fc2(x)\n",
    "        return x\n",
    "    def draw_distri(self):\n",
    "        plt.hist(self.values, bins=100)\n",
    "        plt.show()\n",
    "\n",
    "net = Net().to(device)\n",
    "print(net)"
   ]
  },
  {
   "cell_type": "code",
   "execution_count": 10,
   "metadata": {},
   "outputs": [],
   "source": [
    "criterion = torch.nn.CrossEntropyLoss()\n",
    "#optimizer = torch.optim.Adam(net.parameters())\n",
    "#optimizer = optim.Adam(net.parameters(), lr=0.003)\n",
    "optimizer = optim.SGD(net.parameters(), lr=learning_rate, momentum=0.5)"
   ]
  },
  {
   "cell_type": "code",
   "execution_count": 11,
   "metadata": {},
   "outputs": [
    {
     "name": "stderr",
     "output_type": "stream",
     "text": [
      "[1/5] Loss: 0.4978, Acc: 0.9688, Test Loss: 0.2722, Test Acc: 0.9281: 100%|██████████| 938/938 [00:10<00:00, 88.10step/s] \n",
      "[2/5] Loss: 0.0161, Acc: 0.8750, Test Loss: 0.1788, Test Acc: 0.9497: 100%|██████████| 938/938 [00:09<00:00, 102.80step/s]\n",
      "[3/5] Loss: 0.0238, Acc: 0.9062, Test Loss: 0.1630, Test Acc: 0.9536: 100%|██████████| 938/938 [00:09<00:00, 102.80step/s]\n",
      "[4/5] Loss: 0.0744, Acc: 1.0000, Test Loss: 0.1289, Test Acc: 0.9645: 100%|██████████| 938/938 [00:09<00:00, 102.07step/s]\n",
      "[5/5] Loss: 0.0005, Acc: 0.9688, Test Loss: 0.1220, Test Acc: 0.9666: 100%|██████████| 938/938 [00:09<00:00, 103.74step/s]\n"
     ]
    },
    {
     "data": {
      "image/png": "[encoded data removed]",
      "text/plain": [
       "<Figure size 640x480 with 1 Axes>"
      ]
     },
     "metadata": {},
     "output_type": "display_data"
    }
   ],
   "source": [
    "from tqdm import tqdm\n",
    "\n",
    "#存储训练过程\n",
    "history = {'Train Loss':[],'Test Loss':[],'Test Accuracy':[]}\n",
    "\n",
    "for epoch in range(1, n_epochs + 1):\n",
    "    #构建tqdm进度条\n",
    "    processBar = tqdm(train_loader,unit = 'step')\n",
    "    #打开网络的训练模式\n",
    "    net.train(True)\n",
    "    #开始对训练集的DataLoader进行迭代\n",
    "    totalTrainLoss = 0.0\n",
    "   \n",
    "    for step,(trainImgs,labels) in enumerate(processBar):\n",
    "        \n",
    "        #将图像和标签传输进device中\n",
    "        trainImgs = trainImgs.to(device)\n",
    "        labels = labels.to(device)\n",
    "        \n",
    "        #清空模型的梯度\n",
    "        optimizer.zero_grad()\n",
    "        \n",
    "        #对模型进行前向推理\n",
    "        outputs = net(trainImgs)\n",
    "        \n",
    "        #计算本轮推理的Loss值\n",
    "        loss = criterion(outputs,labels)\n",
    "        #计算本轮推理的准确率\n",
    "        predictions = torch.argmax(outputs, dim = 1)\n",
    "        accuracy = torch.sum(predictions == labels)/labels.shape[0]\n",
    "        \n",
    "        #进行反向传播求出模型参数的梯度\n",
    "        loss.backward()\n",
    "        #使用迭代器更新模型权重\n",
    "        optimizer.step()\n",
    "\n",
    "        #将本step结果进行可视化处理\n",
    "        processBar.set_description(\"[%d/%d] Loss: %.4f, Acc: %.4f\" % \n",
    "                                    (epoch,n_epochs,loss.item(),accuracy.item()))\n",
    "\n",
    "        totalTrainLoss+= loss\n",
    "        \n",
    "        if step == len(processBar)-1:\n",
    "            correct,totalLoss = 0,0\n",
    "            totalSize = 0\n",
    "            net.train(False)\n",
    "            for testImgs,labels in test_loader:\n",
    "                testImgs = testImgs.to(device)\n",
    "                labels = labels.to(device)\n",
    "                outputs = net(testImgs)\n",
    "                loss = criterion(outputs,labels)\n",
    "                predictions = torch.argmax(outputs,dim = 1)\n",
    "                totalSize += labels.size(0)\n",
    "                totalLoss += loss\n",
    "                correct += torch.sum(predictions == labels)\n",
    "            testAccuracy = correct/totalSize\n",
    "            testLoss = totalLoss/len(test_loader)\n",
    "            trainLoss = totalTrainLoss/len(train_loader)\n",
    "            history['Train Loss'].append(trainLoss.item())\n",
    "            history['Test Loss'].append(testLoss.item())\n",
    "            history['Test Accuracy'].append(testAccuracy.item())\n",
    "            processBar.set_description(\"[%d/%d] Loss: %.4f, Acc: %.4f, Test Loss: %.4f, Test Acc: %.4f\" % \n",
    "                                   (epoch,n_epochs,loss.item(),accuracy.item(),testLoss.item(),testAccuracy.item()))\n",
    "    processBar.close()\n",
    "net.draw_distri()"
   ]
  },
  {
   "cell_type": "code",
   "execution_count": null,
   "metadata": {},
   "outputs": [],
   "source": [
    "start = time.time()\n",
    "correct,totalLoss = 0,0\n",
    "totalSize = 0\n",
    "net.train(False)\n",
    "for testImgs,labels in test_loader:\n",
    "    testImgs = testImgs.to(device)\n",
    "    labels = labels.to(device)\n",
    "    outputs = net(testImgs)\n",
    "    loss = criterion(outputs,labels)\n",
    "    predictions = torch.argmax(outputs,dim = 1)\n",
    "    totalSize += labels.size(0)\n",
    "    totalLoss += loss\n",
    "    correct += torch.sum(predictions == labels)\n",
    "print(f'total size:{totalSize}')\n",
    "print(f'correct:{correct}')\n",
    "print(time.time() - start)"
   ]
  },
  {
   "cell_type": "code",
   "execution_count": 12,
   "metadata": {},
   "outputs": [],
   "source": [
    "def enc_relu(enc_x):\n",
    "    return enc_x.polyval([0.06741737,0.53655024,0.55253566])"
   ]
  },
  {
   "cell_type": "code",
   "execution_count": 13,
   "metadata": {},
   "outputs": [],
   "source": [
    "class EncNet:\n",
    "    def __init__(self, net):\n",
    "        self.conv1_w = net.conv1.weight.data.view(net.conv1.out_channels, net.conv1.kernel_size[0], net.conv1.kernel_size[1]).tolist()\n",
    "        self.conv1_b = net.conv1.bias.data.tolist()\n",
    "\n",
    "        self.fc1_weight = net.fc1.weight.T.data.tolist()\n",
    "        self.fc1_bias = net.fc1.bias.data.tolist()\n",
    "        \n",
    "        self.fc2_weight = net.fc2.weight.T.data.tolist()\n",
    "        self.fc2_bias = net.fc2.bias.data.tolist()\n",
    "\n",
    "    def forward(self, enc_x, windows):\n",
    "        enc_channels = []\n",
    "        for kernel, bias in zip(self.conv1_w, self.conv1_b):\n",
    "            y = enc_x.conv2d_im2col(kernel, windows) + bias\n",
    "            enc_channels.append(y)\n",
    "        enc_x = ts.CKKSVector.pack_vectors(enc_channels)\n",
    "        enc_x = enc_relu(enc_x)\n",
    "        enc_x = enc_x.mm(self.fc1_weight) + self.fc1_bias\n",
    "        enc_x = enc_relu(enc_x)\n",
    "        enc_x = enc_x.mm(self.fc2_weight) + self.fc2_bias\n",
    "        return enc_x\n",
    "    def __call__(self, *args, **kwargs):\n",
    "        return self.forward(*args, **kwargs)\n",
    "        "
   ]
  },
  {
   "cell_type": "code",
   "execution_count": 14,
   "metadata": {},
   "outputs": [
    {
     "name": "stdout",
     "output_type": "stream",
     "text": [
      "(7, 7)\n",
      "3\n"
     ]
    }
   ],
   "source": [
    "import time\n",
    "def enc_test(context, model, test_loader, criterion, kernel_shape, stride):\n",
    "    # initialize lists to monitor test loss and accuracy\n",
    "    test_loss = 0.0\n",
    "    class_correct = list(0. for i in range(10))\n",
    "    class_total = list(0. for i in range(10))\n",
    "    cnt = 0\n",
    "    for data, target in test_loader:\n",
    "        # Encoding and encryption\n",
    "        cnt += 1\n",
    "        if cnt % 10 == 0:\n",
    "            print(cnt)\n",
    "        if(cnt >= 100):\n",
    "            break\n",
    "        x_enc, windows_nb = ts.im2col_encoding(\n",
    "            context, data.view(28, 28).tolist(), kernel_shape[0],\n",
    "            kernel_shape[1], stride\n",
    "        )\n",
    "        # Encrypted evaluation\n",
    "        enc_output = enc_net(x_enc, windows_nb)\n",
    "        # Decryption of result\n",
    "        output = enc_output.decrypt()\n",
    "        output = torch.tensor(output).view(1, -1)\n",
    "\n",
    "        # compute loss\n",
    "        loss = criterion(output, target)\n",
    "        test_loss += loss.item()\n",
    "        \n",
    "        # convert output probabilities to predicted class\n",
    "        _, pred = torch.max(output, 1)\n",
    "        # compare predictions to true label\n",
    "        correct = np.squeeze(pred.eq(target.data.view_as(pred)))\n",
    "        # calculate test accuracy for each object class\n",
    "        label = target.data[0]\n",
    "        class_correct[label] += correct.item()\n",
    "        class_total[label] += 1\n",
    "\n",
    "\n",
    "    # calculate and print avg test loss\n",
    "    test_loss = test_loss / sum(class_total)\n",
    "    print(f'Test Loss: {test_loss:.6f}\\n')\n",
    "\n",
    "    for label in range(10):\n",
    "        print(\n",
    "            f'Test Accuracy of {label}: {int(100 * class_correct[label] / class_total[label])}% '\n",
    "            f'({int(np.sum(class_correct[label]))}/{int(np.sum(class_total[label]))})'\n",
    "        )\n",
    "\n",
    "    print(\n",
    "        f'\\nTest Accuracy (Overall): {int(100 * np.sum(class_correct) / np.sum(class_total))}% ' \n",
    "        f'({int(np.sum(class_correct))}/{int(np.sum(class_total))})'\n",
    "    )\n",
    "\n",
    "\n",
    "# Load one element at a time\n",
    "test_loader = torch.utils.data.DataLoader(test_dataset, batch_size=1, shuffle=True)\n",
    "# required for encoding\n",
    "kernel_shape = net.conv1.kernel_size\n",
    "stride = net.conv1.stride[0]\n",
    "print(kernel_shape)\n",
    "print(stride)"
   ]
  },
  {
   "cell_type": "code",
   "execution_count": 15,
   "metadata": {},
   "outputs": [],
   "source": [
    "ctx = create_ctx(8)\n"
   ]
  },
  {
   "cell_type": "code",
   "execution_count": 16,
   "metadata": {},
   "outputs": [
    {
     "name": "stdout",
     "output_type": "stream",
     "text": [
      "10\n",
      "20\n",
      "30\n",
      "40\n",
      "50\n",
      "60\n",
      "70\n",
      "80\n",
      "90\n",
      "100\n",
      "Test Loss: 0.118177\n",
      "\n",
      "Test Accuracy of 0: 93% (15/16)\n",
      "Test Accuracy of 1: 90% (9/10)\n",
      "Test Accuracy of 2: 92% (13/14)\n",
      "Test Accuracy of 3: 100% (11/11)\n",
      "Test Accuracy of 4: 100% (6/6)\n",
      "Test Accuracy of 5: 100% (9/9)\n",
      "Test Accuracy of 6: 100% (4/4)\n",
      "Test Accuracy of 7: 100% (9/9)\n",
      "Test Accuracy of 8: 100% (9/9)\n",
      "Test Accuracy of 9: 100% (11/11)\n",
      "\n",
      "Test Accuracy (Overall): 96% (96/99)\n"
     ]
    }
   ],
   "source": [
    "enc_net = EncNet(net)\n",
    "enc_test(ctx, enc_net, test_loader, criterion, kernel_shape, stride)"
   ]
  }
 ],
 "metadata": {
  "kernelspec": {
   "display_name": "Python 3",
   "language": "python",
   "name": "python3"
  },
  "language_info": {
   "codemirror_mode": {
    "name": "ipython",
    "version": 3
   },
   "file_extension": ".py",
   "mimetype": "text/x-python",
   "name": "python",
   "nbconvert_exporter": "python",
   "pygments_lexer": "ipython3",
   "version": "3.10.6"
  },
  "orig_nbformat": 4,
  "vscode": {
   "interpreter": {
    "hash": "916dbcbb3f70747c44a77c7bcd40155683ae19c65e1c03b4aa3499c5328201f1"
   }
  }
 },
 "nbformat": 4,
 "nbformat_minor": 2
}
